{
 "cells": [
  {
   "cell_type": "markdown",
   "id": "welcome-minnesota",
   "metadata": {},
   "source": [
    "# PAGAMENTO CARTÃO DE CRÉDITO (RANDOM FOREST)"
   ]
  },
  {
   "cell_type": "markdown",
   "id": "chief-tourism",
   "metadata": {},
   "source": [
    "## INTRODUÇÃO"
   ]
  },
  {
   "cell_type": "markdown",
   "id": "driving-tonight",
   "metadata": {},
   "source": [
    "*O presente projeto advém de um exercício de aprendizado de máquina do curso gratuito Microsoft Power BI Para Data Science, Versão 2.0 da Data Science Academy. Procurou-se construir um modelo de machine learning para prever a probabilidade de inadimplência no pagamento do cartão de crédito por clientes de um banco. Foram construídos três modelos, utilizando o algoritmo Random Forest.*\n",
    "<br>\n",
    "\n",
    "\n",
    "**Data Science Academy:** https://www.datascienceacademy.com.br/ <br>\n",
    "**Dados:** https://archive.ics.uci.edu/ml/datasets/default+of+credit+card+clients"
   ]
  },
  {
   "cell_type": "markdown",
   "id": "moved-powell",
   "metadata": {},
   "source": [
    "## 1. CARREGANDO PACOTES E IMPORTANDO DADOS"
   ]
  },
  {
   "cell_type": "code",
   "execution_count": 1,
   "id": "governing-distribution",
   "metadata": {},
   "outputs": [
    {
     "name": "stderr",
     "output_type": "stream",
     "text": [
      "Warning message:\n",
      "\"package 'Amelia' was built under R version 3.6.3\"Loading required package: Rcpp\n",
      "## \n",
      "## Amelia II: Multiple Imputation\n",
      "## (Version 1.7.6, built: 2019-11-24)\n",
      "## Copyright (C) 2005-2021 James Honaker, Gary King and Matthew Blackwell\n",
      "## Refer to http://gking.harvard.edu/amelia/ for more information\n",
      "## \n",
      "Warning message:\n",
      "\"package 'tidyverse' was built under R version 3.6.3\"-- Attaching packages --------------------------------------- tidyverse 1.3.0 --\n",
      "v ggplot2 3.3.3     v purrr   0.3.4\n",
      "v tibble  3.0.6     v dplyr   1.0.4\n",
      "v tidyr   1.1.2     v stringr 1.4.0\n",
      "v readr   1.3.1     v forcats 0.4.0\n",
      "Warning message:\n",
      "\"package 'ggplot2' was built under R version 3.6.3\"Warning message:\n",
      "\"package 'tibble' was built under R version 3.6.3\"Warning message:\n",
      "\"package 'tidyr' was built under R version 3.6.3\"Warning message:\n",
      "\"package 'purrr' was built under R version 3.6.3\"Warning message:\n",
      "\"package 'dplyr' was built under R version 3.6.3\"-- Conflicts ------------------------------------------ tidyverse_conflicts() --\n",
      "x dplyr::filter() masks stats::filter()\n",
      "x dplyr::lag()    masks stats::lag()\n",
      "Warning message:\n",
      "\"package 'caret' was built under R version 3.6.3\"Loading required package: lattice\n",
      "\n",
      "Attaching package: 'caret'\n",
      "\n",
      "The following object is masked from 'package:purrr':\n",
      "\n",
      "    lift\n",
      "\n",
      "Warning message:\n",
      "\"package 'reshape' was built under R version 3.6.3\"\n",
      "Attaching package: 'reshape'\n",
      "\n",
      "The following object is masked from 'package:dplyr':\n",
      "\n",
      "    rename\n",
      "\n",
      "The following objects are masked from 'package:tidyr':\n",
      "\n",
      "    expand, smiths\n",
      "\n",
      "Warning message:\n",
      "\"package 'randomForest' was built under R version 3.6.3\"randomForest 4.6-14\n",
      "Type rfNews() to see new features/changes/bug fixes.\n",
      "\n",
      "Attaching package: 'randomForest'\n",
      "\n",
      "The following object is masked from 'package:dplyr':\n",
      "\n",
      "    combine\n",
      "\n",
      "The following object is masked from 'package:ggplot2':\n",
      "\n",
      "    margin\n",
      "\n",
      "Warning message:\n",
      "\"package 'e1071' was built under R version 3.6.3\"Warning message:\n",
      "\"package 'DMwR' was built under R version 3.6.3\"Loading required package: grid\n",
      "Registered S3 method overwritten by 'xts':\n",
      "  method     from\n",
      "  as.zoo.xts zoo \n",
      "Registered S3 method overwritten by 'quantmod':\n",
      "  method            from\n",
      "  as.zoo.data.frame zoo \n",
      "Warning message:\n",
      "\"package 'gridExtra' was built under R version 3.6.3\"\n",
      "Attaching package: 'gridExtra'\n",
      "\n",
      "The following object is masked from 'package:randomForest':\n",
      "\n",
      "    combine\n",
      "\n",
      "The following object is masked from 'package:dplyr':\n",
      "\n",
      "    combine\n",
      "\n"
     ]
    }
   ],
   "source": [
    "# Pacotes\n",
    "library(Amelia)\n",
    "library(tidyverse)\n",
    "library(caret)\n",
    "library(reshape)\n",
    "library(randomForest)\n",
    "library(e1071)\n",
    "library(DMwR)\n",
    "library(gridExtra)"
   ]
  },
  {
   "cell_type": "code",
   "execution_count": 2,
   "id": "jewish-tribune",
   "metadata": {},
   "outputs": [],
   "source": [
    "# Carregar dados \n",
    "df_clientes<- read.csv(\"dataset.csv\")"
   ]
  },
  {
   "cell_type": "code",
   "execution_count": 3,
   "id": "amateur-fossil",
   "metadata": {},
   "outputs": [
    {
     "data": {
      "text/plain": [
       "       ID          LIMIT_BAL            SEX          EDUCATION    \n",
       " Min.   :    1   Min.   :  10000   Min.   :1.000   Min.   :0.000  \n",
       " 1st Qu.: 7501   1st Qu.:  50000   1st Qu.:1.000   1st Qu.:1.000  \n",
       " Median :15000   Median : 140000   Median :2.000   Median :2.000  \n",
       " Mean   :15000   Mean   : 167484   Mean   :1.604   Mean   :1.853  \n",
       " 3rd Qu.:22500   3rd Qu.: 240000   3rd Qu.:2.000   3rd Qu.:2.000  \n",
       " Max.   :30000   Max.   :1000000   Max.   :2.000   Max.   :6.000  \n",
       "    MARRIAGE          AGE            PAY_0             PAY_2        \n",
       " Min.   :0.000   Min.   :21.00   Min.   :-2.0000   Min.   :-2.0000  \n",
       " 1st Qu.:1.000   1st Qu.:28.00   1st Qu.:-1.0000   1st Qu.:-1.0000  \n",
       " Median :2.000   Median :34.00   Median : 0.0000   Median : 0.0000  \n",
       " Mean   :1.552   Mean   :35.49   Mean   :-0.0167   Mean   :-0.1338  \n",
       " 3rd Qu.:2.000   3rd Qu.:41.00   3rd Qu.: 0.0000   3rd Qu.: 0.0000  \n",
       " Max.   :3.000   Max.   :79.00   Max.   : 8.0000   Max.   : 8.0000  \n",
       "     PAY_3             PAY_4             PAY_5             PAY_6        \n",
       " Min.   :-2.0000   Min.   :-2.0000   Min.   :-2.0000   Min.   :-2.0000  \n",
       " 1st Qu.:-1.0000   1st Qu.:-1.0000   1st Qu.:-1.0000   1st Qu.:-1.0000  \n",
       " Median : 0.0000   Median : 0.0000   Median : 0.0000   Median : 0.0000  \n",
       " Mean   :-0.1662   Mean   :-0.2207   Mean   :-0.2662   Mean   :-0.2911  \n",
       " 3rd Qu.: 0.0000   3rd Qu.: 0.0000   3rd Qu.: 0.0000   3rd Qu.: 0.0000  \n",
       " Max.   : 8.0000   Max.   : 8.0000   Max.   : 8.0000   Max.   : 8.0000  \n",
       "   BILL_AMT1         BILL_AMT2        BILL_AMT3         BILL_AMT4      \n",
       " Min.   :-165580   Min.   :-69777   Min.   :-157264   Min.   :-170000  \n",
       " 1st Qu.:   3559   1st Qu.:  2985   1st Qu.:   2666   1st Qu.:   2327  \n",
       " Median :  22382   Median : 21200   Median :  20089   Median :  19052  \n",
       " Mean   :  51223   Mean   : 49179   Mean   :  47013   Mean   :  43263  \n",
       " 3rd Qu.:  67091   3rd Qu.: 64006   3rd Qu.:  60165   3rd Qu.:  54506  \n",
       " Max.   : 964511   Max.   :983931   Max.   :1664089   Max.   : 891586  \n",
       "   BILL_AMT5        BILL_AMT6          PAY_AMT1         PAY_AMT2      \n",
       " Min.   :-81334   Min.   :-339603   Min.   :     0   Min.   :      0  \n",
       " 1st Qu.:  1763   1st Qu.:   1256   1st Qu.:  1000   1st Qu.:    833  \n",
       " Median : 18105   Median :  17071   Median :  2100   Median :   2009  \n",
       " Mean   : 40311   Mean   :  38872   Mean   :  5664   Mean   :   5921  \n",
       " 3rd Qu.: 50191   3rd Qu.:  49198   3rd Qu.:  5006   3rd Qu.:   5000  \n",
       " Max.   :927171   Max.   : 961664   Max.   :873552   Max.   :1684259  \n",
       "    PAY_AMT3         PAY_AMT4         PAY_AMT5           PAY_AMT6       \n",
       " Min.   :     0   Min.   :     0   Min.   :     0.0   Min.   :     0.0  \n",
       " 1st Qu.:   390   1st Qu.:   296   1st Qu.:   252.5   1st Qu.:   117.8  \n",
       " Median :  1800   Median :  1500   Median :  1500.0   Median :  1500.0  \n",
       " Mean   :  5226   Mean   :  4826   Mean   :  4799.4   Mean   :  5215.5  \n",
       " 3rd Qu.:  4505   3rd Qu.:  4013   3rd Qu.:  4031.5   3rd Qu.:  4000.0  \n",
       " Max.   :896040   Max.   :621000   Max.   :426529.0   Max.   :528666.0  \n",
       " default.payment.next.month\n",
       " Min.   :0.0000            \n",
       " 1st Qu.:0.0000            \n",
       " Median :0.0000            \n",
       " Mean   :0.2212            \n",
       " 3rd Qu.:0.0000            \n",
       " Max.   :1.0000            "
      ]
     },
     "metadata": {},
     "output_type": "display_data"
    }
   ],
   "source": [
    "# Sumário dos dados\n",
    "summary(df_clientes)"
   ]
  },
  {
   "cell_type": "code",
   "execution_count": 4,
   "id": "charitable-beijing",
   "metadata": {},
   "outputs": [
    {
     "data": {
      "text/html": [
       "<table>\n",
       "<thead><tr><th scope=col>ID</th><th scope=col>LIMIT_BAL</th><th scope=col>SEX</th><th scope=col>EDUCATION</th><th scope=col>MARRIAGE</th><th scope=col>AGE</th><th scope=col>PAY_0</th><th scope=col>PAY_2</th><th scope=col>PAY_3</th><th scope=col>PAY_4</th><th scope=col>...</th><th scope=col>BILL_AMT4</th><th scope=col>BILL_AMT5</th><th scope=col>BILL_AMT6</th><th scope=col>PAY_AMT1</th><th scope=col>PAY_AMT2</th><th scope=col>PAY_AMT3</th><th scope=col>PAY_AMT4</th><th scope=col>PAY_AMT5</th><th scope=col>PAY_AMT6</th><th scope=col>default.payment.next.month</th></tr></thead>\n",
       "<tbody>\n",
       "\t<tr><td>1     </td><td> 20000</td><td>2     </td><td>2     </td><td>1     </td><td>24    </td><td> 2    </td><td>2     </td><td>-1    </td><td>-1    </td><td>...   </td><td>    0 </td><td>    0 </td><td>    0 </td><td>   0  </td><td>  689 </td><td>    0 </td><td>   0  </td><td>   0  </td><td>   0  </td><td>1     </td></tr>\n",
       "\t<tr><td>2     </td><td>120000</td><td>2     </td><td>2     </td><td>2     </td><td>26    </td><td>-1    </td><td>2     </td><td> 0    </td><td> 0    </td><td>...   </td><td> 3272 </td><td> 3455 </td><td> 3261 </td><td>   0  </td><td> 1000 </td><td> 1000 </td><td>1000  </td><td>   0  </td><td>2000  </td><td>1     </td></tr>\n",
       "\t<tr><td>3     </td><td> 90000</td><td>2     </td><td>2     </td><td>2     </td><td>34    </td><td> 0    </td><td>0     </td><td> 0    </td><td> 0    </td><td>...   </td><td>14331 </td><td>14948 </td><td>15549 </td><td>1518  </td><td> 1500 </td><td> 1000 </td><td>1000  </td><td>1000  </td><td>5000  </td><td>0     </td></tr>\n",
       "\t<tr><td>4     </td><td> 50000</td><td>2     </td><td>2     </td><td>1     </td><td>37    </td><td> 0    </td><td>0     </td><td> 0    </td><td> 0    </td><td>...   </td><td>28314 </td><td>28959 </td><td>29547 </td><td>2000  </td><td> 2019 </td><td> 1200 </td><td>1100  </td><td>1069  </td><td>1000  </td><td>0     </td></tr>\n",
       "\t<tr><td>5     </td><td> 50000</td><td>1     </td><td>2     </td><td>1     </td><td>57    </td><td>-1    </td><td>0     </td><td>-1    </td><td> 0    </td><td>...   </td><td>20940 </td><td>19146 </td><td>19131 </td><td>2000  </td><td>36681 </td><td>10000 </td><td>9000  </td><td> 689  </td><td> 679  </td><td>0     </td></tr>\n",
       "\t<tr><td>6     </td><td> 50000</td><td>1     </td><td>1     </td><td>2     </td><td>37    </td><td> 0    </td><td>0     </td><td> 0    </td><td> 0    </td><td>...   </td><td>19394 </td><td>19619 </td><td>20024 </td><td>2500  </td><td> 1815 </td><td>  657 </td><td>1000  </td><td>1000  </td><td> 800  </td><td>0     </td></tr>\n",
       "</tbody>\n",
       "</table>\n"
      ],
      "text/latex": [
       "\\begin{tabular}{r|lllllllllllllllllllllllll}\n",
       " ID & LIMIT\\_BAL & SEX & EDUCATION & MARRIAGE & AGE & PAY\\_0 & PAY\\_2 & PAY\\_3 & PAY\\_4 & ... & BILL\\_AMT4 & BILL\\_AMT5 & BILL\\_AMT6 & PAY\\_AMT1 & PAY\\_AMT2 & PAY\\_AMT3 & PAY\\_AMT4 & PAY\\_AMT5 & PAY\\_AMT6 & default.payment.next.month\\\\\n",
       "\\hline\n",
       "\t 1      &  20000 & 2      & 2      & 1      & 24     &  2     & 2      & -1     & -1     & ...    &     0  &     0  &     0  &    0   &   689  &     0  &    0   &    0   &    0   & 1     \\\\\n",
       "\t 2      & 120000 & 2      & 2      & 2      & 26     & -1     & 2      &  0     &  0     & ...    &  3272  &  3455  &  3261  &    0   &  1000  &  1000  & 1000   &    0   & 2000   & 1     \\\\\n",
       "\t 3      &  90000 & 2      & 2      & 2      & 34     &  0     & 0      &  0     &  0     & ...    & 14331  & 14948  & 15549  & 1518   &  1500  &  1000  & 1000   & 1000   & 5000   & 0     \\\\\n",
       "\t 4      &  50000 & 2      & 2      & 1      & 37     &  0     & 0      &  0     &  0     & ...    & 28314  & 28959  & 29547  & 2000   &  2019  &  1200  & 1100   & 1069   & 1000   & 0     \\\\\n",
       "\t 5      &  50000 & 1      & 2      & 1      & 57     & -1     & 0      & -1     &  0     & ...    & 20940  & 19146  & 19131  & 2000   & 36681  & 10000  & 9000   &  689   &  679   & 0     \\\\\n",
       "\t 6      &  50000 & 1      & 1      & 2      & 37     &  0     & 0      &  0     &  0     & ...    & 19394  & 19619  & 20024  & 2500   &  1815  &   657  & 1000   & 1000   &  800   & 0     \\\\\n",
       "\\end{tabular}\n"
      ],
      "text/markdown": [
       "\n",
       "| ID | LIMIT_BAL | SEX | EDUCATION | MARRIAGE | AGE | PAY_0 | PAY_2 | PAY_3 | PAY_4 | ... | BILL_AMT4 | BILL_AMT5 | BILL_AMT6 | PAY_AMT1 | PAY_AMT2 | PAY_AMT3 | PAY_AMT4 | PAY_AMT5 | PAY_AMT6 | default.payment.next.month |\n",
       "|---|---|---|---|---|---|---|---|---|---|---|---|---|---|---|---|---|---|---|---|---|\n",
       "| 1      |  20000 | 2      | 2      | 1      | 24     |  2     | 2      | -1     | -1     | ...    |     0  |     0  |     0  |    0   |   689  |     0  |    0   |    0   |    0   | 1      |\n",
       "| 2      | 120000 | 2      | 2      | 2      | 26     | -1     | 2      |  0     |  0     | ...    |  3272  |  3455  |  3261  |    0   |  1000  |  1000  | 1000   |    0   | 2000   | 1      |\n",
       "| 3      |  90000 | 2      | 2      | 2      | 34     |  0     | 0      |  0     |  0     | ...    | 14331  | 14948  | 15549  | 1518   |  1500  |  1000  | 1000   | 1000   | 5000   | 0      |\n",
       "| 4      |  50000 | 2      | 2      | 1      | 37     |  0     | 0      |  0     |  0     | ...    | 28314  | 28959  | 29547  | 2000   |  2019  |  1200  | 1100   | 1069   | 1000   | 0      |\n",
       "| 5      |  50000 | 1      | 2      | 1      | 57     | -1     | 0      | -1     |  0     | ...    | 20940  | 19146  | 19131  | 2000   | 36681  | 10000  | 9000   |  689   |  679   | 0      |\n",
       "| 6      |  50000 | 1      | 1      | 2      | 37     |  0     | 0      |  0     |  0     | ...    | 19394  | 19619  | 20024  | 2500   |  1815  |   657  | 1000   | 1000   |  800   | 0      |\n",
       "\n"
      ],
      "text/plain": [
       "  ID LIMIT_BAL SEX EDUCATION MARRIAGE AGE PAY_0 PAY_2 PAY_3 PAY_4 ... BILL_AMT4\n",
       "1 1   20000    2   2         1        24   2    2     -1    -1    ...     0    \n",
       "2 2  120000    2   2         2        26  -1    2      0     0    ...  3272    \n",
       "3 3   90000    2   2         2        34   0    0      0     0    ... 14331    \n",
       "4 4   50000    2   2         1        37   0    0      0     0    ... 28314    \n",
       "5 5   50000    1   2         1        57  -1    0     -1     0    ... 20940    \n",
       "6 6   50000    1   1         2        37   0    0      0     0    ... 19394    \n",
       "  BILL_AMT5 BILL_AMT6 PAY_AMT1 PAY_AMT2 PAY_AMT3 PAY_AMT4 PAY_AMT5 PAY_AMT6\n",
       "1     0         0        0       689        0       0        0        0    \n",
       "2  3455      3261        0      1000     1000    1000        0     2000    \n",
       "3 14948     15549     1518      1500     1000    1000     1000     5000    \n",
       "4 28959     29547     2000      2019     1200    1100     1069     1000    \n",
       "5 19146     19131     2000     36681    10000    9000      689      679    \n",
       "6 19619     20024     2500      1815      657    1000     1000      800    \n",
       "  default.payment.next.month\n",
       "1 1                         \n",
       "2 1                         \n",
       "3 0                         \n",
       "4 0                         \n",
       "5 0                         \n",
       "6 0                         "
      ]
     },
     "metadata": {},
     "output_type": "display_data"
    }
   ],
   "source": [
    "# Visualizar as seis primeiras linhas\n",
    "head(df_clientes)"
   ]
  },
  {
   "cell_type": "code",
   "execution_count": 5,
   "id": "authentic-thursday",
   "metadata": {},
   "outputs": [
    {
     "data": {
      "text/html": [
       "<table>\n",
       "<thead><tr><th></th><th scope=col>ID</th><th scope=col>LIMIT_BAL</th><th scope=col>SEX</th><th scope=col>EDUCATION</th><th scope=col>MARRIAGE</th><th scope=col>AGE</th><th scope=col>PAY_0</th><th scope=col>PAY_2</th><th scope=col>PAY_3</th><th scope=col>PAY_4</th><th scope=col>...</th><th scope=col>BILL_AMT4</th><th scope=col>BILL_AMT5</th><th scope=col>BILL_AMT6</th><th scope=col>PAY_AMT1</th><th scope=col>PAY_AMT2</th><th scope=col>PAY_AMT3</th><th scope=col>PAY_AMT4</th><th scope=col>PAY_AMT5</th><th scope=col>PAY_AMT6</th><th scope=col>default.payment.next.month</th></tr></thead>\n",
       "<tbody>\n",
       "\t<tr><th scope=row>29995</th><td>29995 </td><td> 80000</td><td>1     </td><td>2     </td><td>2     </td><td>34    </td><td> 2    </td><td> 2    </td><td> 2    </td><td> 2    </td><td>...   </td><td>77519 </td><td>82607 </td><td>81158 </td><td> 7000 </td><td> 3500 </td><td>    0 </td><td>7000  </td><td>    0 </td><td>4000  </td><td>1     </td></tr>\n",
       "\t<tr><th scope=row>29996</th><td>29996 </td><td>220000</td><td>1     </td><td>3     </td><td>1     </td><td>39    </td><td> 0    </td><td> 0    </td><td> 0    </td><td> 0    </td><td>...   </td><td>88004 </td><td>31237 </td><td>15980 </td><td> 8500 </td><td>20000 </td><td> 5003 </td><td>3047  </td><td> 5000 </td><td>1000  </td><td>0     </td></tr>\n",
       "\t<tr><th scope=row>29997</th><td>29997 </td><td>150000</td><td>1     </td><td>3     </td><td>2     </td><td>43    </td><td>-1    </td><td>-1    </td><td>-1    </td><td>-1    </td><td>...   </td><td> 8979 </td><td> 5190 </td><td>    0 </td><td> 1837 </td><td> 3526 </td><td> 8998 </td><td> 129  </td><td>    0 </td><td>   0  </td><td>0     </td></tr>\n",
       "\t<tr><th scope=row>29998</th><td>29998 </td><td> 30000</td><td>1     </td><td>2     </td><td>2     </td><td>37    </td><td> 4    </td><td> 3    </td><td> 2    </td><td>-1    </td><td>...   </td><td>20878 </td><td>20582 </td><td>19357 </td><td>    0 </td><td>    0 </td><td>22000 </td><td>4200  </td><td> 2000 </td><td>3100  </td><td>1     </td></tr>\n",
       "\t<tr><th scope=row>29999</th><td>29999 </td><td> 80000</td><td>1     </td><td>3     </td><td>1     </td><td>41    </td><td> 1    </td><td>-1    </td><td> 0    </td><td> 0    </td><td>...   </td><td>52774 </td><td>11855 </td><td>48944 </td><td>85900 </td><td> 3409 </td><td> 1178 </td><td>1926  </td><td>52964 </td><td>1804  </td><td>1     </td></tr>\n",
       "\t<tr><th scope=row>30000</th><td>30000 </td><td> 50000</td><td>1     </td><td>2     </td><td>1     </td><td>46    </td><td> 0    </td><td> 0    </td><td> 0    </td><td> 0    </td><td>...   </td><td>36535 </td><td>32428 </td><td>15313 </td><td> 2078 </td><td> 1800 </td><td> 1430 </td><td>1000  </td><td> 1000 </td><td>1000  </td><td>1     </td></tr>\n",
       "</tbody>\n",
       "</table>\n"
      ],
      "text/latex": [
       "\\begin{tabular}{r|lllllllllllllllllllllllll}\n",
       "  & ID & LIMIT\\_BAL & SEX & EDUCATION & MARRIAGE & AGE & PAY\\_0 & PAY\\_2 & PAY\\_3 & PAY\\_4 & ... & BILL\\_AMT4 & BILL\\_AMT5 & BILL\\_AMT6 & PAY\\_AMT1 & PAY\\_AMT2 & PAY\\_AMT3 & PAY\\_AMT4 & PAY\\_AMT5 & PAY\\_AMT6 & default.payment.next.month\\\\\n",
       "\\hline\n",
       "\t29995 & 29995  &  80000 & 1      & 2      & 2      & 34     &  2     &  2     &  2     &  2     & ...    & 77519  & 82607  & 81158  &  7000  &  3500  &     0  & 7000   &     0  & 4000   & 1     \\\\\n",
       "\t29996 & 29996  & 220000 & 1      & 3      & 1      & 39     &  0     &  0     &  0     &  0     & ...    & 88004  & 31237  & 15980  &  8500  & 20000  &  5003  & 3047   &  5000  & 1000   & 0     \\\\\n",
       "\t29997 & 29997  & 150000 & 1      & 3      & 2      & 43     & -1     & -1     & -1     & -1     & ...    &  8979  &  5190  &     0  &  1837  &  3526  &  8998  &  129   &     0  &    0   & 0     \\\\\n",
       "\t29998 & 29998  &  30000 & 1      & 2      & 2      & 37     &  4     &  3     &  2     & -1     & ...    & 20878  & 20582  & 19357  &     0  &     0  & 22000  & 4200   &  2000  & 3100   & 1     \\\\\n",
       "\t29999 & 29999  &  80000 & 1      & 3      & 1      & 41     &  1     & -1     &  0     &  0     & ...    & 52774  & 11855  & 48944  & 85900  &  3409  &  1178  & 1926   & 52964  & 1804   & 1     \\\\\n",
       "\t30000 & 30000  &  50000 & 1      & 2      & 1      & 46     &  0     &  0     &  0     &  0     & ...    & 36535  & 32428  & 15313  &  2078  &  1800  &  1430  & 1000   &  1000  & 1000   & 1     \\\\\n",
       "\\end{tabular}\n"
      ],
      "text/markdown": [
       "\n",
       "| <!--/--> | ID | LIMIT_BAL | SEX | EDUCATION | MARRIAGE | AGE | PAY_0 | PAY_2 | PAY_3 | PAY_4 | ... | BILL_AMT4 | BILL_AMT5 | BILL_AMT6 | PAY_AMT1 | PAY_AMT2 | PAY_AMT3 | PAY_AMT4 | PAY_AMT5 | PAY_AMT6 | default.payment.next.month |\n",
       "|---|---|---|---|---|---|---|---|---|---|---|---|---|---|---|---|---|---|---|---|---|---|\n",
       "| 29995 | 29995  |  80000 | 1      | 2      | 2      | 34     |  2     |  2     |  2     |  2     | ...    | 77519  | 82607  | 81158  |  7000  |  3500  |     0  | 7000   |     0  | 4000   | 1      |\n",
       "| 29996 | 29996  | 220000 | 1      | 3      | 1      | 39     |  0     |  0     |  0     |  0     | ...    | 88004  | 31237  | 15980  |  8500  | 20000  |  5003  | 3047   |  5000  | 1000   | 0      |\n",
       "| 29997 | 29997  | 150000 | 1      | 3      | 2      | 43     | -1     | -1     | -1     | -1     | ...    |  8979  |  5190  |     0  |  1837  |  3526  |  8998  |  129   |     0  |    0   | 0      |\n",
       "| 29998 | 29998  |  30000 | 1      | 2      | 2      | 37     |  4     |  3     |  2     | -1     | ...    | 20878  | 20582  | 19357  |     0  |     0  | 22000  | 4200   |  2000  | 3100   | 1      |\n",
       "| 29999 | 29999  |  80000 | 1      | 3      | 1      | 41     |  1     | -1     |  0     |  0     | ...    | 52774  | 11855  | 48944  | 85900  |  3409  |  1178  | 1926   | 52964  | 1804   | 1      |\n",
       "| 30000 | 30000  |  50000 | 1      | 2      | 1      | 46     |  0     |  0     |  0     |  0     | ...    | 36535  | 32428  | 15313  |  2078  |  1800  |  1430  | 1000   |  1000  | 1000   | 1      |\n",
       "\n"
      ],
      "text/plain": [
       "      ID    LIMIT_BAL SEX EDUCATION MARRIAGE AGE PAY_0 PAY_2 PAY_3 PAY_4 ...\n",
       "29995 29995  80000    1   2         2        34   2     2     2     2    ...\n",
       "29996 29996 220000    1   3         1        39   0     0     0     0    ...\n",
       "29997 29997 150000    1   3         2        43  -1    -1    -1    -1    ...\n",
       "29998 29998  30000    1   2         2        37   4     3     2    -1    ...\n",
       "29999 29999  80000    1   3         1        41   1    -1     0     0    ...\n",
       "30000 30000  50000    1   2         1        46   0     0     0     0    ...\n",
       "      BILL_AMT4 BILL_AMT5 BILL_AMT6 PAY_AMT1 PAY_AMT2 PAY_AMT3 PAY_AMT4\n",
       "29995 77519     82607     81158      7000     3500        0    7000    \n",
       "29996 88004     31237     15980      8500    20000     5003    3047    \n",
       "29997  8979      5190         0      1837     3526     8998     129    \n",
       "29998 20878     20582     19357         0        0    22000    4200    \n",
       "29999 52774     11855     48944     85900     3409     1178    1926    \n",
       "30000 36535     32428     15313      2078     1800     1430    1000    \n",
       "      PAY_AMT5 PAY_AMT6 default.payment.next.month\n",
       "29995     0    4000     1                         \n",
       "29996  5000    1000     0                         \n",
       "29997     0       0     0                         \n",
       "29998  2000    3100     1                         \n",
       "29999 52964    1804     1                         \n",
       "30000  1000    1000     1                         "
      ]
     },
     "metadata": {},
     "output_type": "display_data"
    }
   ],
   "source": [
    "# Visualizar as seis últimas linhas\n",
    "tail(df_clientes)"
   ]
  },
  {
   "cell_type": "code",
   "execution_count": 6,
   "id": "demographic-words",
   "metadata": {},
   "outputs": [
    {
     "data": {
      "text/html": [
       "<dl class=dl-horizontal>\n",
       "\t<dt>ID</dt>\n",
       "\t\t<dd>0</dd>\n",
       "\t<dt>LIMIT_BAL</dt>\n",
       "\t\t<dd>0</dd>\n",
       "\t<dt>SEX</dt>\n",
       "\t\t<dd>0</dd>\n",
       "\t<dt>EDUCATION</dt>\n",
       "\t\t<dd>0</dd>\n",
       "\t<dt>MARRIAGE</dt>\n",
       "\t\t<dd>0</dd>\n",
       "\t<dt>AGE</dt>\n",
       "\t\t<dd>0</dd>\n",
       "\t<dt>PAY_0</dt>\n",
       "\t\t<dd>0</dd>\n",
       "\t<dt>PAY_2</dt>\n",
       "\t\t<dd>0</dd>\n",
       "\t<dt>PAY_3</dt>\n",
       "\t\t<dd>0</dd>\n",
       "\t<dt>PAY_4</dt>\n",
       "\t\t<dd>0</dd>\n",
       "\t<dt>PAY_5</dt>\n",
       "\t\t<dd>0</dd>\n",
       "\t<dt>PAY_6</dt>\n",
       "\t\t<dd>0</dd>\n",
       "\t<dt>BILL_AMT1</dt>\n",
       "\t\t<dd>0</dd>\n",
       "\t<dt>BILL_AMT2</dt>\n",
       "\t\t<dd>0</dd>\n",
       "\t<dt>BILL_AMT3</dt>\n",
       "\t\t<dd>0</dd>\n",
       "\t<dt>BILL_AMT4</dt>\n",
       "\t\t<dd>0</dd>\n",
       "\t<dt>BILL_AMT5</dt>\n",
       "\t\t<dd>0</dd>\n",
       "\t<dt>BILL_AMT6</dt>\n",
       "\t\t<dd>0</dd>\n",
       "\t<dt>PAY_AMT1</dt>\n",
       "\t\t<dd>0</dd>\n",
       "\t<dt>PAY_AMT2</dt>\n",
       "\t\t<dd>0</dd>\n",
       "\t<dt>PAY_AMT3</dt>\n",
       "\t\t<dd>0</dd>\n",
       "\t<dt>PAY_AMT4</dt>\n",
       "\t\t<dd>0</dd>\n",
       "\t<dt>PAY_AMT5</dt>\n",
       "\t\t<dd>0</dd>\n",
       "\t<dt>PAY_AMT6</dt>\n",
       "\t\t<dd>0</dd>\n",
       "\t<dt>default.payment.next.month</dt>\n",
       "\t\t<dd>0</dd>\n",
       "</dl>\n"
      ],
      "text/latex": [
       "\\begin{description*}\n",
       "\\item[ID] 0\n",
       "\\item[LIMIT\\textbackslash{}\\_BAL] 0\n",
       "\\item[SEX] 0\n",
       "\\item[EDUCATION] 0\n",
       "\\item[MARRIAGE] 0\n",
       "\\item[AGE] 0\n",
       "\\item[PAY\\textbackslash{}\\_0] 0\n",
       "\\item[PAY\\textbackslash{}\\_2] 0\n",
       "\\item[PAY\\textbackslash{}\\_3] 0\n",
       "\\item[PAY\\textbackslash{}\\_4] 0\n",
       "\\item[PAY\\textbackslash{}\\_5] 0\n",
       "\\item[PAY\\textbackslash{}\\_6] 0\n",
       "\\item[BILL\\textbackslash{}\\_AMT1] 0\n",
       "\\item[BILL\\textbackslash{}\\_AMT2] 0\n",
       "\\item[BILL\\textbackslash{}\\_AMT3] 0\n",
       "\\item[BILL\\textbackslash{}\\_AMT4] 0\n",
       "\\item[BILL\\textbackslash{}\\_AMT5] 0\n",
       "\\item[BILL\\textbackslash{}\\_AMT6] 0\n",
       "\\item[PAY\\textbackslash{}\\_AMT1] 0\n",
       "\\item[PAY\\textbackslash{}\\_AMT2] 0\n",
       "\\item[PAY\\textbackslash{}\\_AMT3] 0\n",
       "\\item[PAY\\textbackslash{}\\_AMT4] 0\n",
       "\\item[PAY\\textbackslash{}\\_AMT5] 0\n",
       "\\item[PAY\\textbackslash{}\\_AMT6] 0\n",
       "\\item[default.payment.next.month] 0\n",
       "\\end{description*}\n"
      ],
      "text/markdown": [
       "ID\n",
       ":   0LIMIT_BAL\n",
       ":   0SEX\n",
       ":   0EDUCATION\n",
       ":   0MARRIAGE\n",
       ":   0AGE\n",
       ":   0PAY_0\n",
       ":   0PAY_2\n",
       ":   0PAY_3\n",
       ":   0PAY_4\n",
       ":   0PAY_5\n",
       ":   0PAY_6\n",
       ":   0BILL_AMT1\n",
       ":   0BILL_AMT2\n",
       ":   0BILL_AMT3\n",
       ":   0BILL_AMT4\n",
       ":   0BILL_AMT5\n",
       ":   0BILL_AMT6\n",
       ":   0PAY_AMT1\n",
       ":   0PAY_AMT2\n",
       ":   0PAY_AMT3\n",
       ":   0PAY_AMT4\n",
       ":   0PAY_AMT5\n",
       ":   0PAY_AMT6\n",
       ":   0default.payment.next.month\n",
       ":   0\n",
       "\n"
      ],
      "text/plain": [
       "                        ID                  LIMIT_BAL \n",
       "                         0                          0 \n",
       "                       SEX                  EDUCATION \n",
       "                         0                          0 \n",
       "                  MARRIAGE                        AGE \n",
       "                         0                          0 \n",
       "                     PAY_0                      PAY_2 \n",
       "                         0                          0 \n",
       "                     PAY_3                      PAY_4 \n",
       "                         0                          0 \n",
       "                     PAY_5                      PAY_6 \n",
       "                         0                          0 \n",
       "                 BILL_AMT1                  BILL_AMT2 \n",
       "                         0                          0 \n",
       "                 BILL_AMT3                  BILL_AMT4 \n",
       "                         0                          0 \n",
       "                 BILL_AMT5                  BILL_AMT6 \n",
       "                         0                          0 \n",
       "                  PAY_AMT1                   PAY_AMT2 \n",
       "                         0                          0 \n",
       "                  PAY_AMT3                   PAY_AMT4 \n",
       "                         0                          0 \n",
       "                  PAY_AMT5                   PAY_AMT6 \n",
       "                         0                          0 \n",
       "default.payment.next.month \n",
       "                         0 "
      ]
     },
     "metadata": {},
     "output_type": "display_data"
    }
   ],
   "source": [
    "# Checar NAs\n",
    "sapply(df_clientes, function(x) sum(is.na(x)))"
   ]
  },
  {
   "cell_type": "code",
   "execution_count": 7,
   "id": "adverse-providence",
   "metadata": {},
   "outputs": [
    {
     "data": {
      "image/png": "[encoded data removed]",
      "text/plain": [
       "Plot with title \"Missingness Map\""
      ]
     },
     "metadata": {},
     "output_type": "display_data"
    }
   ],
   "source": [
    "# Plotar NAs\n",
    "missmap(df_clientes) "
   ]
  },
  {
   "cell_type": "markdown",
   "id": "superb-investment",
   "metadata": {},
   "source": [
    "## 2. LIMPEZA, TRANSFORMAÇÃO E ANÁLISE EXPLORATÓRIA DOS DADOS"
   ]
  },
  {
   "cell_type": "markdown",
   "id": "stuffed-exchange",
   "metadata": {},
   "source": [
    "### 2.1 Pré Conversão"
   ]
  },
  {
   "cell_type": "code",
   "execution_count": 8,
   "id": "extreme-burton",
   "metadata": {},
   "outputs": [],
   "source": [
    "# Remover primeira coluna - ID\n",
    "df_clientes<- df_clientes[,-1]"
   ]
  },
  {
   "cell_type": "code",
   "execution_count": 9,
   "id": "level-setting",
   "metadata": {},
   "outputs": [],
   "source": [
    "# Renomear a a variável dependente - DEFAULTING\n",
    "colnames(df_clientes) [24]<- \"DEFAULTING\""
   ]
  },
  {
   "cell_type": "code",
   "execution_count": 10,
   "id": "ancient-acoustic",
   "metadata": {},
   "outputs": [],
   "source": [
    "# Transformar variaveis \n",
    "df_clientes$SEX<- factor(df_clientes$SEX,\n",
    "                         levels = c(1,2),\n",
    "                         labels = c(\"Male\",\"Female\"))\n",
    "\n",
    "df_clientes$MARRIAGE<- factor(df_clientes$MARRIAGE,\n",
    "                              levels = c(0,1,2,3),\n",
    "                              labels=c(\"Unknown\",\"Married\",\"Single\",\"Others\"))\n",
    "\n",
    "df_clientes$EDUCATION<- factor(df_clientes$EDUCATION,\n",
    "                               levels = c(1,2,3,4),\n",
    "                               labels = c(\"Graduate School\", \"University\",\n",
    "                                          \"High School\",\"Others\"))\n",
    "df_clientes$AGE<- cut(df_clientes$AGE,\n",
    "                      c(0,30,50,100),\n",
    "                      labels = c(\"Young\",\"Adult\",\"Old\"))\n",
    "\n",
    "df_clientes$PAY_0<- factor(df_clientes$PAY_0)\n",
    "df_clientes$PAY_2<- factor(df_clientes$PAY_2)\n",
    "df_clientes$PAY_3<- factor(df_clientes$PAY_3)\n",
    "df_clientes$PAY_4<- factor(df_clientes$PAY_4)\n",
    "df_clientes$PAY_5<- factor(df_clientes$PAY_5)\n",
    "df_clientes$PAY_6<- factor(df_clientes$PAY_6)\n",
    "df_clientes$DEFAULTING<- factor(df_clientes$DEFAULTING)"
   ]
  },
  {
   "cell_type": "markdown",
   "id": "technical-belfast",
   "metadata": {},
   "source": [
    "### 2.2 Pós Conversão"
   ]
  },
  {
   "cell_type": "code",
   "execution_count": 11,
   "id": "tamil-input",
   "metadata": {},
   "outputs": [
    {
     "name": "stdout",
     "output_type": "stream",
     "text": [
      "Rows: 30,000\n",
      "Columns: 24\n",
      "$ LIMIT_BAL  <int> 20000, 120000, 90000, 50000, 50000, 50000, 500000, 100000, ~\n",
      "$ SEX        <fct> Female, Female, Female, Female, Male, Male, Male, Female, F~\n",
      "$ EDUCATION  <fct> University, University, University, University, University,~\n",
      "$ MARRIAGE   <fct> Married, Single, Single, Married, Married, Single, Single, ~\n",
      "$ AGE        <fct> Young, Young, Adult, Adult, Old, Adult, Young, Young, Young~\n",
      "$ PAY_0      <fct> 2, -1, 0, 0, -1, 0, 0, 0, 0, -2, 0, -1, -1, 1, 0, 1, 0, 0, ~\n",
      "$ PAY_2      <fct> 2, 2, 0, 0, 0, 0, 0, -1, 0, -2, 0, -1, 0, 2, 0, 2, 0, 0, -2~\n",
      "$ PAY_3      <fct> -1, 0, 0, 0, -1, 0, 0, -1, 2, -2, 2, -1, -1, 2, 0, 0, 2, 0,~\n",
      "$ PAY_4      <fct> -1, 0, 0, 0, 0, 0, 0, 0, 0, -2, 0, -1, -1, 0, 0, 0, 2, -1, ~\n",
      "$ PAY_5      <fct> -2, 0, 0, 0, 0, 0, 0, 0, 0, -1, 0, -1, -1, 0, 0, 0, 2, -1, ~\n",
      "$ PAY_6      <fct> -2, 2, 0, 0, 0, 0, 0, -1, 0, -1, -1, 2, -1, 2, 0, 0, 2, -1,~\n",
      "$ BILL_AMT1  <int> 3913, 2682, 29239, 46990, 8617, 64400, 367965, 11876, 11285~\n",
      "$ BILL_AMT2  <int> 3102, 1725, 14027, 48233, 5670, 57069, 412023, 380, 14096, ~\n",
      "$ BILL_AMT3  <int> 689, 2682, 13559, 49291, 35835, 57608, 445007, 601, 12108, ~\n",
      "$ BILL_AMT4  <int> 0, 3272, 14331, 28314, 20940, 19394, 542653, 221, 12211, 0,~\n",
      "$ BILL_AMT5  <int> 0, 3455, 14948, 28959, 19146, 19619, 483003, -159, 11793, 1~\n",
      "$ BILL_AMT6  <int> 0, 3261, 15549, 29547, 19131, 20024, 473944, 567, 3719, 139~\n",
      "$ PAY_AMT1   <int> 0, 0, 1518, 2000, 2000, 2500, 55000, 380, 3329, 0, 2306, 21~\n",
      "$ PAY_AMT2   <int> 689, 1000, 1500, 2019, 36681, 1815, 40000, 601, 0, 0, 12, 9~\n",
      "$ PAY_AMT3   <int> 0, 1000, 1000, 1200, 10000, 657, 38000, 0, 432, 0, 50, 8583~\n",
      "$ PAY_AMT4   <int> 0, 1000, 1000, 1100, 9000, 1000, 20239, 581, 1000, 13007, 3~\n",
      "$ PAY_AMT5   <int> 0, 0, 1000, 1069, 689, 1000, 13750, 1687, 1000, 1122, 3738,~\n",
      "$ PAY_AMT6   <int> 0, 2000, 5000, 1000, 679, 800, 13770, 1542, 1000, 0, 66, 36~\n",
      "$ DEFAULTING <fct> 1, 1, 0, 0, 0, 0, 0, 0, 0, 0, 0, 0, 0, 1, 0, 0, 1, 0, 0, 0,~\n"
     ]
    }
   ],
   "source": [
    "# Visualizando dados pós conversão\n",
    "glimpse(df_clientes)"
   ]
  },
  {
   "cell_type": "code",
   "execution_count": 12,
   "id": "molecular-exemption",
   "metadata": {},
   "outputs": [
    {
     "data": {
      "text/html": [
       "<dl class=dl-horizontal>\n",
       "\t<dt>LIMIT_BAL</dt>\n",
       "\t\t<dd>0</dd>\n",
       "\t<dt>SEX</dt>\n",
       "\t\t<dd>0</dd>\n",
       "\t<dt>EDUCATION</dt>\n",
       "\t\t<dd>345</dd>\n",
       "\t<dt>MARRIAGE</dt>\n",
       "\t\t<dd>0</dd>\n",
       "\t<dt>AGE</dt>\n",
       "\t\t<dd>0</dd>\n",
       "\t<dt>PAY_0</dt>\n",
       "\t\t<dd>0</dd>\n",
       "\t<dt>PAY_2</dt>\n",
       "\t\t<dd>0</dd>\n",
       "\t<dt>PAY_3</dt>\n",
       "\t\t<dd>0</dd>\n",
       "\t<dt>PAY_4</dt>\n",
       "\t\t<dd>0</dd>\n",
       "\t<dt>PAY_5</dt>\n",
       "\t\t<dd>0</dd>\n",
       "\t<dt>PAY_6</dt>\n",
       "\t\t<dd>0</dd>\n",
       "\t<dt>BILL_AMT1</dt>\n",
       "\t\t<dd>0</dd>\n",
       "\t<dt>BILL_AMT2</dt>\n",
       "\t\t<dd>0</dd>\n",
       "\t<dt>BILL_AMT3</dt>\n",
       "\t\t<dd>0</dd>\n",
       "\t<dt>BILL_AMT4</dt>\n",
       "\t\t<dd>0</dd>\n",
       "\t<dt>BILL_AMT5</dt>\n",
       "\t\t<dd>0</dd>\n",
       "\t<dt>BILL_AMT6</dt>\n",
       "\t\t<dd>0</dd>\n",
       "\t<dt>PAY_AMT1</dt>\n",
       "\t\t<dd>0</dd>\n",
       "\t<dt>PAY_AMT2</dt>\n",
       "\t\t<dd>0</dd>\n",
       "\t<dt>PAY_AMT3</dt>\n",
       "\t\t<dd>0</dd>\n",
       "\t<dt>PAY_AMT4</dt>\n",
       "\t\t<dd>0</dd>\n",
       "\t<dt>PAY_AMT5</dt>\n",
       "\t\t<dd>0</dd>\n",
       "\t<dt>PAY_AMT6</dt>\n",
       "\t\t<dd>0</dd>\n",
       "\t<dt>DEFAULTING</dt>\n",
       "\t\t<dd>0</dd>\n",
       "</dl>\n"
      ],
      "text/latex": [
       "\\begin{description*}\n",
       "\\item[LIMIT\\textbackslash{}\\_BAL] 0\n",
       "\\item[SEX] 0\n",
       "\\item[EDUCATION] 345\n",
       "\\item[MARRIAGE] 0\n",
       "\\item[AGE] 0\n",
       "\\item[PAY\\textbackslash{}\\_0] 0\n",
       "\\item[PAY\\textbackslash{}\\_2] 0\n",
       "\\item[PAY\\textbackslash{}\\_3] 0\n",
       "\\item[PAY\\textbackslash{}\\_4] 0\n",
       "\\item[PAY\\textbackslash{}\\_5] 0\n",
       "\\item[PAY\\textbackslash{}\\_6] 0\n",
       "\\item[BILL\\textbackslash{}\\_AMT1] 0\n",
       "\\item[BILL\\textbackslash{}\\_AMT2] 0\n",
       "\\item[BILL\\textbackslash{}\\_AMT3] 0\n",
       "\\item[BILL\\textbackslash{}\\_AMT4] 0\n",
       "\\item[BILL\\textbackslash{}\\_AMT5] 0\n",
       "\\item[BILL\\textbackslash{}\\_AMT6] 0\n",
       "\\item[PAY\\textbackslash{}\\_AMT1] 0\n",
       "\\item[PAY\\textbackslash{}\\_AMT2] 0\n",
       "\\item[PAY\\textbackslash{}\\_AMT3] 0\n",
       "\\item[PAY\\textbackslash{}\\_AMT4] 0\n",
       "\\item[PAY\\textbackslash{}\\_AMT5] 0\n",
       "\\item[PAY\\textbackslash{}\\_AMT6] 0\n",
       "\\item[DEFAULTING] 0\n",
       "\\end{description*}\n"
      ],
      "text/markdown": [
       "LIMIT_BAL\n",
       ":   0SEX\n",
       ":   0EDUCATION\n",
       ":   345MARRIAGE\n",
       ":   0AGE\n",
       ":   0PAY_0\n",
       ":   0PAY_2\n",
       ":   0PAY_3\n",
       ":   0PAY_4\n",
       ":   0PAY_5\n",
       ":   0PAY_6\n",
       ":   0BILL_AMT1\n",
       ":   0BILL_AMT2\n",
       ":   0BILL_AMT3\n",
       ":   0BILL_AMT4\n",
       ":   0BILL_AMT5\n",
       ":   0BILL_AMT6\n",
       ":   0PAY_AMT1\n",
       ":   0PAY_AMT2\n",
       ":   0PAY_AMT3\n",
       ":   0PAY_AMT4\n",
       ":   0PAY_AMT5\n",
       ":   0PAY_AMT6\n",
       ":   0DEFAULTING\n",
       ":   0\n",
       "\n"
      ],
      "text/plain": [
       " LIMIT_BAL        SEX  EDUCATION   MARRIAGE        AGE      PAY_0      PAY_2 \n",
       "         0          0        345          0          0          0          0 \n",
       "     PAY_3      PAY_4      PAY_5      PAY_6  BILL_AMT1  BILL_AMT2  BILL_AMT3 \n",
       "         0          0          0          0          0          0          0 \n",
       " BILL_AMT4  BILL_AMT5  BILL_AMT6   PAY_AMT1   PAY_AMT2   PAY_AMT3   PAY_AMT4 \n",
       "         0          0          0          0          0          0          0 \n",
       "  PAY_AMT5   PAY_AMT6 DEFAULTING \n",
       "         0          0          0 "
      ]
     },
     "metadata": {},
     "output_type": "display_data"
    }
   ],
   "source": [
    "# Checar NAs\n",
    "sapply(df_clientes, function(x) sum(is.na(x)))"
   ]
  },
  {
   "cell_type": "code",
   "execution_count": 13,
   "id": "married-arkansas",
   "metadata": {},
   "outputs": [
    {
     "data": {
      "image/png": "[encoded data removed]",
      "text/plain": [
       "Plot with title \"Missingness Map\""
      ]
     },
     "metadata": {},
     "output_type": "display_data"
    }
   ],
   "source": [
    "# Plot NAs\n",
    "missmap(df_clientes)"
   ]
  },
  {
   "cell_type": "code",
   "execution_count": 14,
   "id": "beginning-circus",
   "metadata": {},
   "outputs": [],
   "source": [
    "# Omitir NAs\n",
    "df_clientes<-na.omit(df_clientes)"
   ]
  },
  {
   "cell_type": "code",
   "execution_count": 15,
   "id": "simple-forty",
   "metadata": {},
   "outputs": [
    {
     "data": {
      "text/plain": [
       "\n",
       "    0     1 \n",
       "23045  6610 "
      ]
     },
     "metadata": {},
     "output_type": "display_data"
    }
   ],
   "source": [
    "# Contar valores da variável dependente - Defaulting\n",
    "table(df_clientes$DEFAULTING)"
   ]
  },
  {
   "cell_type": "code",
   "execution_count": 16,
   "id": "cardiac-grounds",
   "metadata": {},
   "outputs": [
    {
     "data": {
      "text/plain": [
       "\n",
       "        0         1 \n",
       "0.7771034 0.2228966 "
      ]
     },
     "metadata": {},
     "output_type": "display_data"
    }
   ],
   "source": [
    "# Visualizar proporção variável dependente - Defaulting\n",
    "prop.table(table(df_clientes$DEFAULTING))"
   ]
  },
  {
   "cell_type": "markdown",
   "id": "endless-sewing",
   "metadata": {},
   "source": [
    "### 2.3 Visualizando as Variáveis"
   ]
  },
  {
   "cell_type": "code",
   "execution_count": 17,
   "id": "interpreted-detective",
   "metadata": {},
   "outputs": [
    {
     "data": {
      "image/png": "[encoded data removed]",
      "text/plain": [
       "plot without title"
      ]
     },
     "metadata": {},
     "output_type": "display_data"
    }
   ],
   "source": [
    "# Plotar variável dependente - Defaulting\n",
    "df_clientes %>%\n",
    "  ggplot(aes(DEFAULTING,fill=DEFAULTING)) +\n",
    "  geom_bar(show.legend = F, alpha=.5) +\n",
    "  labs(title = \"Defaulting\",x=NULL,y=NULL)"
   ]
  },
  {
   "cell_type": "code",
   "execution_count": 18,
   "id": "numerous-james",
   "metadata": {},
   "outputs": [],
   "source": [
    "# Plotar variável Amount of the given credit\n",
    "plot1<-df_clientes %>%\n",
    "ggplot(aes(LIMIT_BAL)) +\n",
    "geom_histogram(fill = \"green\", color = \"red\", alpha = .5, bins = 40, boundary = 5) +\n",
    "labs(title=\"Amount of the Given Credit\",x=NULL,y=NULL)"
   ]
  },
  {
   "cell_type": "code",
   "execution_count": 19,
   "id": "anonymous-annotation",
   "metadata": {},
   "outputs": [],
   "source": [
    "# Plotar variável Age\n",
    "plot2<-df_clientes %>%\n",
    "  ggplot(aes(AGE,fill=AGE)) +\n",
    "  geom_bar(show.legend = F, alpha=.5) +\n",
    "  labs(title = \"Age\",x=NULL,y=NULL)"
   ]
  },
  {
   "cell_type": "code",
   "execution_count": 20,
   "id": "secondary-exposure",
   "metadata": {},
   "outputs": [
    {
     "data": {
      "image/png": "[encoded data removed]",
      "text/plain": [
       "plot without title"
      ]
     },
     "metadata": {},
     "output_type": "display_data"
    }
   ],
   "source": [
    "grid.arrange(plot1,plot2)"
   ]
  },
  {
   "cell_type": "code",
   "execution_count": 21,
   "id": "qualified-cookbook",
   "metadata": {},
   "outputs": [],
   "source": [
    "# Plot Marriage\n",
    "plot3<-df_clientes %>%\n",
    "ggplot(aes(MARRIAGE,fill=MARRIAGE)) +\n",
    "geom_bar(show.legend=F,alpha=.5) +\n",
    "labs(title=\"Marriage Status\",x=NULL,y=NULL)"
   ]
  },
  {
   "cell_type": "code",
   "execution_count": 22,
   "id": "graduate-calibration",
   "metadata": {},
   "outputs": [],
   "source": [
    "# Plot Education\n",
    "plot4<-df_clientes %>%\n",
    "ggplot(aes(EDUCATION,fill=EDUCATION)) +\n",
    "geom_bar(show.legend=F,alpha=.5) +\n",
    "labs(title=\"Education Level\",x=NULL,y=NULL)"
   ]
  },
  {
   "cell_type": "code",
   "execution_count": 23,
   "id": "concrete-darwin",
   "metadata": {},
   "outputs": [],
   "source": [
    "# Plot Sex\n",
    "plot5<-df_clientes %>%\n",
    "ggplot(aes(SEX,fill=SEX)) +\n",
    "geom_bar(show.legend=F,alpha=.5) +\n",
    "labs(title=\"Sex\",x=NULL,y=NULL)"
   ]
  },
  {
   "cell_type": "code",
   "execution_count": 24,
   "id": "extensive-birth",
   "metadata": {},
   "outputs": [
    {
     "data": {
      "image/png": "[encoded data removed]",
      "text/plain": [
       "plot without title"
      ]
     },
     "metadata": {},
     "output_type": "display_data"
    }
   ],
   "source": [
    "grid.arrange(plot3,plot4,plot5)"
   ]
  },
  {
   "cell_type": "code",
   "execution_count": 25,
   "id": "consecutive-compound",
   "metadata": {},
   "outputs": [],
   "source": [
    "# Plotar variável Pay0\n",
    "plot6<-df_clientes %>%\n",
    "  ggplot(aes(PAY_0,fill=PAY_0)) +\n",
    "  geom_bar(show.legend = F, alpha=.5) +\n",
    "  labs(title = \"Pay0\",x=NULL,y=NULL)"
   ]
  },
  {
   "cell_type": "code",
   "execution_count": 26,
   "id": "searching-optics",
   "metadata": {},
   "outputs": [],
   "source": [
    "# Plotar variável Pay2\n",
    "plot7<-df_clientes %>%\n",
    "  ggplot(aes(PAY_2,fill=PAY_2)) +\n",
    "  geom_bar(show.legend = F, alpha=.5) +\n",
    "  labs(title = \"Pay2\",x=NULL,y=NULL)"
   ]
  },
  {
   "cell_type": "code",
   "execution_count": 27,
   "id": "demonstrated-james",
   "metadata": {},
   "outputs": [],
   "source": [
    "# Plotar variável Pay3\n",
    "plot8<-df_clientes %>%\n",
    "  ggplot(aes(PAY_3,fill=PAY_3)) +\n",
    "  geom_bar(show.legend = F, alpha=.5) +\n",
    "  labs(title = \"Pay3\",x=NULL,y=NULL)"
   ]
  },
  {
   "cell_type": "code",
   "execution_count": 28,
   "id": "assigned-somewhere",
   "metadata": {},
   "outputs": [
    {
     "data": {
      "image/png": "[encoded data removed]",
      "text/plain": [
       "plot without title"
      ]
     },
     "metadata": {},
     "output_type": "display_data"
    }
   ],
   "source": [
    "grid.arrange(plot6,plot7,plot8)"
   ]
  },
  {
   "cell_type": "code",
   "execution_count": 29,
   "id": "brazilian-maximum",
   "metadata": {},
   "outputs": [],
   "source": [
    "# Plotar variável Pay4\n",
    "plot9<-df_clientes %>%\n",
    "  ggplot(aes(PAY_4,fill=PAY_4)) +\n",
    "  geom_bar(show.legend = F, alpha=.5) +\n",
    "  labs(title = \"Pay4\",x=NULL,y=NULL)"
   ]
  },
  {
   "cell_type": "code",
   "execution_count": 30,
   "id": "rising-maximum",
   "metadata": {},
   "outputs": [],
   "source": [
    "# Plotar variável Pay5\n",
    "plot10<-df_clientes %>%\n",
    "  ggplot(aes(PAY_5,fill=PAY_5)) +\n",
    "  geom_bar(show.legend = F, alpha=.5) +\n",
    "  labs(title = \"Pay5\",x=NULL,y=NULL)"
   ]
  },
  {
   "cell_type": "code",
   "execution_count": 31,
   "id": "published-synthesis",
   "metadata": {},
   "outputs": [],
   "source": [
    "# Plotar variável Pay6\n",
    "plot11<-df_clientes %>%\n",
    "  ggplot(aes(PAY_6,fill=PAY_6)) +\n",
    "  geom_bar(show.legend = F, alpha=.5) +\n",
    "  labs(title = \"Pay6\",x=NULL,y=NULL)"
   ]
  },
  {
   "cell_type": "code",
   "execution_count": 32,
   "id": "focused-grill",
   "metadata": {},
   "outputs": [
    {
     "data": {
      "image/png": "[encoded data removed]",
      "text/plain": [
       "plot without title"
      ]
     },
     "metadata": {},
     "output_type": "display_data"
    }
   ],
   "source": [
    "grid.arrange(plot9,plot10,plot11)"
   ]
  },
  {
   "cell_type": "code",
   "execution_count": 33,
   "id": "basic-truck",
   "metadata": {},
   "outputs": [],
   "source": [
    "# Plotar variável Amount of Bill1\n",
    "plot12<-df_clientes %>%\n",
    "ggplot(aes(BILL_AMT1)) +\n",
    "geom_histogram(fill = \"green\", color = \"red\", alpha = .5, bins = 40, boundary = 5) +\n",
    "labs(title=\"Amount of Bill1\",x=NULL,y=NULL)"
   ]
  },
  {
   "cell_type": "code",
   "execution_count": 34,
   "id": "quiet-command",
   "metadata": {},
   "outputs": [],
   "source": [
    "# Plotar variável Amount of Bill2\n",
    "plot13<-df_clientes %>%\n",
    "ggplot(aes(BILL_AMT2)) +\n",
    "geom_histogram(fill = \"green\", color = \"red\", alpha = .5, bins = 40, boundary = 5) +\n",
    "labs(title=\"Amount of Bill2\",x=NULL,y=NULL)"
   ]
  },
  {
   "cell_type": "code",
   "execution_count": 35,
   "id": "precise-painting",
   "metadata": {},
   "outputs": [],
   "source": [
    "# Plotar variável Amount of Bill3\n",
    "plot14<-df_clientes %>%\n",
    "ggplot(aes(BILL_AMT3)) +\n",
    "geom_histogram(fill = \"green\", color = \"red\", alpha = .5, bins = 40, boundary = 5) +\n",
    "labs(title=\"Amount of Bill3\",x=NULL,y=NULL)"
   ]
  },
  {
   "cell_type": "code",
   "execution_count": 36,
   "id": "independent-model",
   "metadata": {},
   "outputs": [
    {
     "data": {
      "image/png": "[encoded data removed]",
      "text/plain": [
       "plot without title"
      ]
     },
     "metadata": {},
     "output_type": "display_data"
    }
   ],
   "source": [
    "grid.arrange(plot12,plot13,plot14)"
   ]
  },
  {
   "cell_type": "code",
   "execution_count": 37,
   "id": "pending-twelve",
   "metadata": {},
   "outputs": [],
   "source": [
    "# Plotar variável Amount of Bill4\n",
    "plot15<-df_clientes %>%\n",
    "ggplot(aes(BILL_AMT4)) +\n",
    "geom_histogram(fill = \"green\", color = \"red\", alpha = .5, bins = 40, boundary = 5) +\n",
    "labs(title=\"Amount of Bill4\",x=NULL,y=NULL)"
   ]
  },
  {
   "cell_type": "code",
   "execution_count": 38,
   "id": "bottom-italian",
   "metadata": {},
   "outputs": [],
   "source": [
    "# Plotar variável Amount of Bill5\n",
    "plot16<-df_clientes %>%\n",
    "ggplot(aes(BILL_AMT5)) +\n",
    "geom_histogram(fill = \"green\", color = \"red\", alpha = .5, bins = 40, boundary = 5) +\n",
    "labs(title=\"Amount of Bill5\",x=NULL,y=NULL)"
   ]
  },
  {
   "cell_type": "code",
   "execution_count": 39,
   "id": "professional-import",
   "metadata": {},
   "outputs": [],
   "source": [
    "# Plotar variável Amount of Bill6\n",
    "plot17<-df_clientes %>%\n",
    "ggplot(aes(BILL_AMT6)) +\n",
    "geom_histogram(fill = \"green\", color = \"red\", alpha = .5, bins = 40, boundary = 5) +\n",
    "labs(title=\"Amount of Bill6\",x=NULL,y=NULL)"
   ]
  },
  {
   "cell_type": "code",
   "execution_count": 40,
   "id": "meaningful-check",
   "metadata": {},
   "outputs": [
    {
     "data": {
      "image/png": "[encoded data removed]",
      "text/plain": [
       "plot without title"
      ]
     },
     "metadata": {},
     "output_type": "display_data"
    }
   ],
   "source": [
    "grid.arrange(plot15,plot16,plot17)"
   ]
  },
  {
   "cell_type": "code",
   "execution_count": 41,
   "id": "decreased-twenty",
   "metadata": {},
   "outputs": [],
   "source": [
    "# Plotar variável  Amount of previous payment1\n",
    "plot18<-df_clientes %>%\n",
    "ggplot(aes(PAY_AMT1)) +\n",
    "geom_histogram(fill = \"green\", color = \"red\", alpha = .5, bins = 40, boundary = 5) +\n",
    "labs(title=\"Amount of previous payment1\",x=NULL,y=NULL)"
   ]
  },
  {
   "cell_type": "code",
   "execution_count": 42,
   "id": "vanilla-magnitude",
   "metadata": {},
   "outputs": [],
   "source": [
    "# Plotar variável  Amount of previous payment2\n",
    "plot19<-df_clientes %>%\n",
    "ggplot(aes(PAY_AMT2)) +\n",
    "geom_histogram(fill = \"green\", color = \"red\", alpha = .5, bins = 40, boundary = 5) +\n",
    "labs(title=\"Amount of previous payment2\",x=NULL,y=NULL)"
   ]
  },
  {
   "cell_type": "code",
   "execution_count": 43,
   "id": "searching-juvenile",
   "metadata": {},
   "outputs": [],
   "source": [
    "# Plotar variável  Amount of previous payment3\n",
    "plot20<-df_clientes %>%\n",
    "ggplot(aes(PAY_AMT3)) +\n",
    "geom_histogram(fill = \"green\", color = \"red\", alpha = .5, bins = 40, boundary = 5) +\n",
    "labs(title=\"Amount of previous payment3\",x=NULL,y=NULL)"
   ]
  },
  {
   "cell_type": "code",
   "execution_count": 44,
   "id": "introductory-notice",
   "metadata": {},
   "outputs": [
    {
     "data": {
      "image/png": "[encoded data removed]",
      "text/plain": [
       "plot without title"
      ]
     },
     "metadata": {},
     "output_type": "display_data"
    }
   ],
   "source": [
    "grid.arrange(plot18,plot19,plot20)"
   ]
  },
  {
   "cell_type": "code",
   "execution_count": 45,
   "id": "sacred-margin",
   "metadata": {},
   "outputs": [],
   "source": [
    "# Plotar variável  Amount of previous payment4\n",
    "plot21<-df_clientes %>%\n",
    "ggplot(aes(PAY_AMT4)) +\n",
    "geom_histogram(fill = \"green\", color = \"red\", alpha = .5, bins = 40, boundary = 5) +\n",
    "labs(title=\"Amount of previous payment4\",x=NULL,y=NULL)"
   ]
  },
  {
   "cell_type": "code",
   "execution_count": 46,
   "id": "finished-electronics",
   "metadata": {},
   "outputs": [],
   "source": [
    "# Plotar variável  Amount of previous payment5\n",
    "plot22<-df_clientes %>%\n",
    "ggplot(aes(PAY_AMT5)) +\n",
    "geom_histogram(fill = \"green\", color = \"red\", alpha = .5, bins = 40, boundary = 5) +\n",
    "labs(title=\"Amount of previous payment5\",x=NULL,y=NULL)"
   ]
  },
  {
   "cell_type": "code",
   "execution_count": 47,
   "id": "intense-offset",
   "metadata": {},
   "outputs": [],
   "source": [
    "# Plotar variável  Amount of previous payment6\n",
    "plot23<-df_clientes %>%\n",
    "ggplot(aes(PAY_AMT6)) +\n",
    "geom_histogram(fill = \"green\", color = \"red\", alpha = .5, bins = 40, boundary = 5) +\n",
    "labs(title=\"Amount of previous payment6\",x=NULL,y=NULL)"
   ]
  },
  {
   "cell_type": "code",
   "execution_count": 48,
   "id": "packed-winner",
   "metadata": {},
   "outputs": [
    {
     "data": {
      "image/png": "[encoded data removed]",
      "text/plain": [
       "plot without title"
      ]
     },
     "metadata": {},
     "output_type": "display_data"
    }
   ],
   "source": [
    "grid.arrange(plot21,plot22,plot23)"
   ]
  },
  {
   "cell_type": "markdown",
   "id": "separated-constant",
   "metadata": {},
   "source": [
    "## 3. MACHINE LEARNING"
   ]
  },
  {
   "cell_type": "markdown",
   "id": "lesser-shadow",
   "metadata": {},
   "source": [
    "### 3.1 Divisão dos dados"
   ]
  },
  {
   "cell_type": "code",
   "execution_count": 49,
   "id": "premium-cherry",
   "metadata": {},
   "outputs": [],
   "source": [
    "# Set seed\n",
    "set.seed(12345)"
   ]
  },
  {
   "cell_type": "code",
   "execution_count": 50,
   "id": "apart-commons",
   "metadata": {},
   "outputs": [],
   "source": [
    "# Definindo dados de treino\n",
    "indice<- createDataPartition(df_clientes$DEFAULTING,\n",
    "                             p=0.75, list=F)\n",
    "df_treino<- df_clientes[indice,]"
   ]
  },
  {
   "cell_type": "code",
   "execution_count": 51,
   "id": "characteristic-dividend",
   "metadata": {},
   "outputs": [
    {
     "data": {
      "text/html": [
       "<ol class=list-inline>\n",
       "\t<li>22242</li>\n",
       "\t<li>24</li>\n",
       "</ol>\n"
      ],
      "text/latex": [
       "\\begin{enumerate*}\n",
       "\\item 22242\n",
       "\\item 24\n",
       "\\end{enumerate*}\n"
      ],
      "text/markdown": [
       "1. 22242\n",
       "2. 24\n",
       "\n",
       "\n"
      ],
      "text/plain": [
       "[1] 22242    24"
      ]
     },
     "metadata": {},
     "output_type": "display_data"
    }
   ],
   "source": [
    "# Ver dimensão \n",
    "dim(df_treino)"
   ]
  },
  {
   "cell_type": "code",
   "execution_count": 52,
   "id": "relevant-rainbow",
   "metadata": {},
   "outputs": [
    {
     "data": {
      "text/plain": [
       "\n",
       "    0     1 \n",
       "17284  4958 "
      ]
     },
     "metadata": {},
     "output_type": "display_data"
    }
   ],
   "source": [
    "# Contar valores da variável dependente - Defaulting\n",
    "table(df_treino$DEFAULTING)"
   ]
  },
  {
   "cell_type": "code",
   "execution_count": 53,
   "id": "happy-accessory",
   "metadata": {},
   "outputs": [],
   "source": [
    "# Unir contagem base de treino e original\n",
    "comparar_df<- cbind(prop.table(table(df_treino$DEFAULTING)),\n",
    "                    prop.table(table(df_clientes$DEFAULTING)))\n",
    "colnames(comparar_df)<- c(\"Treino\", \"Original\")"
   ]
  },
  {
   "cell_type": "code",
   "execution_count": 54,
   "id": "hairy-midnight",
   "metadata": {},
   "outputs": [],
   "source": [
    "# Converter colunas em linhas\n",
    "melt_comparacao<- melt(comparar_df)"
   ]
  },
  {
   "cell_type": "code",
   "execution_count": 55,
   "id": "distant-regard",
   "metadata": {},
   "outputs": [
    {
     "data": {
      "image/png": "[encoded data removed]",
      "text/plain": [
       "plot without title"
      ]
     },
     "metadata": {},
     "output_type": "display_data"
    }
   ],
   "source": [
    "# Plotar base de treino e original\n",
    "melt_comparacao %>%\n",
    "  ggplot(aes(X1,value)) +\n",
    "  geom_bar(aes(fill=X2),stat = \"identity\", position = \"dodge\",alpha=.5) +\n",
    "labs(title=\"Original x Treino\",x=NULL,y=NULL,fill=NULL)"
   ]
  },
  {
   "cell_type": "code",
   "execution_count": 56,
   "id": "apparent-mining",
   "metadata": {},
   "outputs": [],
   "source": [
    "# Definindo dados de teste\n",
    "df_teste<- df_clientes[-indice,]"
   ]
  },
  {
   "cell_type": "code",
   "execution_count": 57,
   "id": "quantitative-commons",
   "metadata": {},
   "outputs": [
    {
     "data": {
      "text/html": [
       "<ol class=list-inline>\n",
       "\t<li>7413</li>\n",
       "\t<li>24</li>\n",
       "</ol>\n"
      ],
      "text/latex": [
       "\\begin{enumerate*}\n",
       "\\item 7413\n",
       "\\item 24\n",
       "\\end{enumerate*}\n"
      ],
      "text/markdown": [
       "1. 7413\n",
       "2. 24\n",
       "\n",
       "\n"
      ],
      "text/plain": [
       "[1] 7413   24"
      ]
     },
     "metadata": {},
     "output_type": "display_data"
    }
   ],
   "source": [
    "# Ver dimensão\n",
    "dim(df_teste)"
   ]
  },
  {
   "cell_type": "markdown",
   "id": "ultimate-enough",
   "metadata": {},
   "source": [
    "### 3.2 Construindo Modelos"
   ]
  },
  {
   "cell_type": "markdown",
   "id": "native-occasions",
   "metadata": {},
   "source": [
    "**1. Primeiro Modelo** <br>\n",
    "- Modelo padrão utilizando a variável **Defaulting** como variável dependente e as restantes como independentes."
   ]
  },
  {
   "cell_type": "code",
   "execution_count": 58,
   "id": "generous-routine",
   "metadata": {},
   "outputs": [],
   "source": [
    "# Primeira versão do modelo\n",
    "modelo_v1<- randomForest(DEFAULTING ~., df_treino)"
   ]
  },
  {
   "cell_type": "code",
   "execution_count": 59,
   "id": "third-agreement",
   "metadata": {},
   "outputs": [
    {
     "data": {
      "text/plain": [
       "\n",
       "Call:\n",
       " randomForest(formula = DEFAULTING ~ ., data = df_treino) \n",
       "               Type of random forest: classification\n",
       "                     Number of trees: 500\n",
       "No. of variables tried at each split: 4\n",
       "\n",
       "        OOB estimate of  error rate: 18.21%\n",
       "Confusion matrix:\n",
       "      0    1 class.error\n",
       "0 16338  946   0.0547327\n",
       "1  3105 1853   0.6262606"
      ]
     },
     "metadata": {},
     "output_type": "display_data"
    }
   ],
   "source": [
    "# Ver modelo 1\n",
    "modelo_v1"
   ]
  },
  {
   "cell_type": "code",
   "execution_count": 60,
   "id": "german-dairy",
   "metadata": {},
   "outputs": [
    {
     "data": {
      "image/png": "[encoded data removed]",
      "text/plain": [
       "Plot with title \"modelo_v1\""
      ]
     },
     "metadata": {},
     "output_type": "display_data"
    }
   ],
   "source": [
    "# Avaliando o modelo\n",
    "plot(modelo_v1)"
   ]
  },
  {
   "cell_type": "code",
   "execution_count": 61,
   "id": "advisory-cylinder",
   "metadata": {},
   "outputs": [],
   "source": [
    "# Previsões com dados de teste\n",
    "previsoes_v1<- predict(modelo_v1, df_teste)"
   ]
  },
  {
   "cell_type": "code",
   "execution_count": 62,
   "id": "temporal-permission",
   "metadata": {},
   "outputs": [],
   "source": [
    "# Construindo uma matrix de confusão\n",
    "cm_v1<- caret::confusionMatrix(previsoes_v1,\n",
    "                               df_teste$DEFAULTING,\n",
    "                              positive=\"1\")"
   ]
  },
  {
   "cell_type": "code",
   "execution_count": 63,
   "id": "contrary-representation",
   "metadata": {},
   "outputs": [
    {
     "data": {
      "text/plain": [
       "Confusion Matrix and Statistics\n",
       "\n",
       "          Reference\n",
       "Prediction    0    1\n",
       "         0 5443 1055\n",
       "         1  318  597\n",
       "                                          \n",
       "               Accuracy : 0.8148          \n",
       "                 95% CI : (0.8058, 0.8236)\n",
       "    No Information Rate : 0.7771          \n",
       "    P-Value [Acc > NIR] : 1.01e-15        \n",
       "                                          \n",
       "                  Kappa : 0.3641          \n",
       "                                          \n",
       " Mcnemar's Test P-Value : < 2.2e-16       \n",
       "                                          \n",
       "            Sensitivity : 0.36138         \n",
       "            Specificity : 0.94480         \n",
       "         Pos Pred Value : 0.65246         \n",
       "         Neg Pred Value : 0.83764         \n",
       "             Prevalence : 0.22285         \n",
       "         Detection Rate : 0.08053         \n",
       "   Detection Prevalence : 0.12343         \n",
       "      Balanced Accuracy : 0.65309         \n",
       "                                          \n",
       "       'Positive' Class : 1               \n",
       "                                          "
      ]
     },
     "metadata": {},
     "output_type": "display_data"
    }
   ],
   "source": [
    "# Visualizando a matrix de confusão\n",
    "cm_v1"
   ]
  },
  {
   "cell_type": "code",
   "execution_count": 64,
   "id": "coordinated-winter",
   "metadata": {},
   "outputs": [],
   "source": [
    "# Definindo valores de y e y_pred\n",
    "y<- df_teste$DEFAULTING\n",
    "y_pred_v1<- previsoes_v1"
   ]
  },
  {
   "cell_type": "code",
   "execution_count": 65,
   "id": "color-heaven",
   "metadata": {},
   "outputs": [
    {
     "data": {
      "text/html": [
       "0.837642351492767"
      ],
      "text/latex": [
       "0.837642351492767"
      ],
      "text/markdown": [
       "0.837642351492767"
      ],
      "text/plain": [
       "[1] 0.8376424"
      ]
     },
     "metadata": {},
     "output_type": "display_data"
    }
   ],
   "source": [
    "# Calculando Precision\n",
    "precision<- posPredValue(y_pred_v1,y)\n",
    "precision"
   ]
  },
  {
   "cell_type": "code",
   "execution_count": 66,
   "id": "knowing-advocacy",
   "metadata": {},
   "outputs": [
    {
     "data": {
      "text/html": [
       "0.944801249783024"
      ],
      "text/latex": [
       "0.944801249783024"
      ],
      "text/markdown": [
       "0.944801249783024"
      ],
      "text/plain": [
       "[1] 0.9448012"
      ]
     },
     "metadata": {},
     "output_type": "display_data"
    }
   ],
   "source": [
    "# Calculando recall\n",
    "recall<- sensitivity(y_pred_v1,y)\n",
    "recall"
   ]
  },
  {
   "cell_type": "code",
   "execution_count": 67,
   "id": "fleet-dover",
   "metadata": {},
   "outputs": [
    {
     "data": {
      "text/html": [
       "0.888000652581777"
      ],
      "text/latex": [
       "0.888000652581777"
      ],
      "text/markdown": [
       "0.888000652581777"
      ],
      "text/plain": [
       "[1] 0.8880007"
      ]
     },
     "metadata": {},
     "output_type": "display_data"
    }
   ],
   "source": [
    "# Calculando F1-Score\n",
    "F1<- (2 * precision * recall) / (precision + recall)\n",
    "F1"
   ]
  },
  {
   "cell_type": "markdown",
   "id": "nutritional-string",
   "metadata": {},
   "source": [
    "**2. Segundo Modelo**\n",
    "- Realizando um balanceamento da variável dependente."
   ]
  },
  {
   "cell_type": "code",
   "execution_count": 68,
   "id": "present-championship",
   "metadata": {},
   "outputs": [],
   "source": [
    "# Set seed\n",
    "set.seed(9560)"
   ]
  },
  {
   "cell_type": "code",
   "execution_count": 69,
   "id": "tender-south",
   "metadata": {},
   "outputs": [],
   "source": [
    "# Balanceamento de classe\n",
    "df_treino_bal<- SMOTE(DEFAULTING ~.,df_treino)"
   ]
  },
  {
   "cell_type": "code",
   "execution_count": 70,
   "id": "purple-shannon",
   "metadata": {},
   "outputs": [
    {
     "data": {
      "text/plain": [
       "\n",
       "        0         1 \n",
       "0.5714286 0.4285714 "
      ]
     },
     "metadata": {},
     "output_type": "display_data"
    }
   ],
   "source": [
    "# Visualizar proporção variável dependente - Defaulting balanceada\n",
    "prop.table(table(df_treino_bal$DEFAULTING))"
   ]
  },
  {
   "cell_type": "code",
   "execution_count": 71,
   "id": "polish-upper",
   "metadata": {},
   "outputs": [
    {
     "data": {
      "image/png": "[encoded data removed]",
      "text/plain": [
       "plot without title"
      ]
     },
     "metadata": {},
     "output_type": "display_data"
    }
   ],
   "source": [
    "# Plotar variável dependente - Defaulting balanceada\n",
    "df_treino_bal %>%\n",
    "ggplot(aes(DEFAULTING,fill=DEFAULTING)) +\n",
    "geom_bar(show.legend=F, alpha=.5) +\n",
    "labs(title=\"Variável Dependente Balanceada\", x=NULL, y=NULL)"
   ]
  },
  {
   "cell_type": "code",
   "execution_count": 72,
   "id": "personal-wallet",
   "metadata": {},
   "outputs": [],
   "source": [
    "# Segunda versão do modelo\n",
    "modelo_v2<- randomForest(DEFAULTING ~., df_treino_bal)"
   ]
  },
  {
   "cell_type": "code",
   "execution_count": 73,
   "id": "complex-double",
   "metadata": {},
   "outputs": [
    {
     "data": {
      "text/plain": [
       "\n",
       "Call:\n",
       " randomForest(formula = DEFAULTING ~ ., data = df_treino_bal) \n",
       "               Type of random forest: classification\n",
       "                     Number of trees: 500\n",
       "No. of variables tried at each split: 4\n",
       "\n",
       "        OOB estimate of  error rate: 10.05%\n",
       "Confusion matrix:\n",
       "      0     1 class.error\n",
       "0 19010   822  0.04144816\n",
       "1  2665 12209  0.17917171"
      ]
     },
     "metadata": {},
     "output_type": "display_data"
    }
   ],
   "source": [
    "# Ver modelo 2\n",
    "modelo_v2"
   ]
  },
  {
   "cell_type": "code",
   "execution_count": 74,
   "id": "rapid-diabetes",
   "metadata": {},
   "outputs": [
    {
     "data": {
      "image/png": "[encoded data removed]",
      "text/plain": [
       "Plot with title \"modelo_v2\""
      ]
     },
     "metadata": {},
     "output_type": "display_data"
    }
   ],
   "source": [
    "# Avaliando o modelo\n",
    "plot(modelo_v2)"
   ]
  },
  {
   "cell_type": "code",
   "execution_count": 75,
   "id": "adjacent-application",
   "metadata": {},
   "outputs": [],
   "source": [
    "# Previsões com dados de teste\n",
    "previsoes_v2<- predict(modelo_v2, df_teste)"
   ]
  },
  {
   "cell_type": "code",
   "execution_count": 76,
   "id": "helpful-spank",
   "metadata": {},
   "outputs": [],
   "source": [
    "# Construindo uma matrix de confusão\n",
    "cm_v2<- caret::confusionMatrix(previsoes_v2,\n",
    "                               df_teste$DEFAULTING,\n",
    "                              positive=\"1\")"
   ]
  },
  {
   "cell_type": "code",
   "execution_count": 77,
   "id": "modern-stability",
   "metadata": {},
   "outputs": [
    {
     "data": {
      "text/plain": [
       "Confusion Matrix and Statistics\n",
       "\n",
       "          Reference\n",
       "Prediction    0    1\n",
       "         0 5050  810\n",
       "         1  711  842\n",
       "                                         \n",
       "               Accuracy : 0.7948         \n",
       "                 95% CI : (0.7854, 0.804)\n",
       "    No Information Rate : 0.7771         \n",
       "    P-Value [Acc > NIR] : 0.0001189      \n",
       "                                         \n",
       "                  Kappa : 0.3947         \n",
       "                                         \n",
       " Mcnemar's Test P-Value : 0.0119770      \n",
       "                                         \n",
       "            Sensitivity : 0.5097         \n",
       "            Specificity : 0.8766         \n",
       "         Pos Pred Value : 0.5422         \n",
       "         Neg Pred Value : 0.8618         \n",
       "             Prevalence : 0.2229         \n",
       "         Detection Rate : 0.1136         \n",
       "   Detection Prevalence : 0.2095         \n",
       "      Balanced Accuracy : 0.6931         \n",
       "                                         \n",
       "       'Positive' Class : 1              \n",
       "                                         "
      ]
     },
     "metadata": {},
     "output_type": "display_data"
    }
   ],
   "source": [
    "# Visualizando a matrix de confusão\n",
    "cm_v2"
   ]
  },
  {
   "cell_type": "code",
   "execution_count": 78,
   "id": "veterinary-christmas",
   "metadata": {},
   "outputs": [],
   "source": [
    "# Definindo valores de y e y_pred\n",
    "y<- df_teste$DEFAULTING\n",
    "y_pred_v2<- previsoes_v2"
   ]
  },
  {
   "cell_type": "code",
   "execution_count": 79,
   "id": "rocky-bracelet",
   "metadata": {},
   "outputs": [
    {
     "data": {
      "text/html": [
       "0.861774744027304"
      ],
      "text/latex": [
       "0.861774744027304"
      ],
      "text/markdown": [
       "0.861774744027304"
      ],
      "text/plain": [
       "[1] 0.8617747"
      ]
     },
     "metadata": {},
     "output_type": "display_data"
    }
   ],
   "source": [
    "# Calculando Precision\n",
    "precision2<- posPredValue(y_pred_v2,y)\n",
    "precision2"
   ]
  },
  {
   "cell_type": "code",
   "execution_count": 80,
   "id": "affiliated-cabin",
   "metadata": {},
   "outputs": [
    {
     "data": {
      "text/html": [
       "0.876583926401666"
      ],
      "text/latex": [
       "0.876583926401666"
      ],
      "text/markdown": [
       "0.876583926401666"
      ],
      "text/plain": [
       "[1] 0.8765839"
      ]
     },
     "metadata": {},
     "output_type": "display_data"
    }
   ],
   "source": [
    "# Calculando recall\n",
    "recall2<- sensitivity(y_pred_v2,y)\n",
    "recall2"
   ]
  },
  {
   "cell_type": "code",
   "execution_count": 81,
   "id": "wired-decimal",
   "metadata": {},
   "outputs": [
    {
     "data": {
      "text/html": [
       "0.888000652581777"
      ],
      "text/latex": [
       "0.888000652581777"
      ],
      "text/markdown": [
       "0.888000652581777"
      ],
      "text/plain": [
       "[1] 0.8880007"
      ]
     },
     "metadata": {},
     "output_type": "display_data"
    }
   ],
   "source": [
    "# Calculando F1-Score\n",
    "F2<- (2 * precision * recall) / (precision + recall)\n",
    "F2"
   ]
  },
  {
   "cell_type": "markdown",
   "id": "turned-silicon",
   "metadata": {},
   "source": [
    "**3. Terceiro Modelo**\n",
    "- Escolhendo as variáveis mais importantes do modelo."
   ]
  },
  {
   "cell_type": "code",
   "execution_count": 82,
   "id": "announced-difficulty",
   "metadata": {},
   "outputs": [],
   "source": [
    "# Obtendo as variáveis mais importantes\n",
    "imp_var<- importance(modelo_v2)\n",
    "varImportance<- data.frame(Variables=row.names(imp_var),\n",
    "                          Importance=round(imp_var[,\"MeanDecreaseGini\"],2))"
   ]
  },
  {
   "cell_type": "code",
   "execution_count": 83,
   "id": "median-lebanon",
   "metadata": {},
   "outputs": [],
   "source": [
    "# Criando rank de variáveis segundo importância\n",
    "rankImportance<- varImportance %>%\n",
    "mutate(Rank= paste0(\"#\", dense_rank(desc(Importance))))"
   ]
  },
  {
   "cell_type": "code",
   "execution_count": 84,
   "id": "crazy-conservation",
   "metadata": {},
   "outputs": [
    {
     "data": {
      "image/png": "[encoded data removed]",
      "text/plain": [
       "plot without title"
      ]
     },
     "metadata": {},
     "output_type": "display_data"
    }
   ],
   "source": [
    "# Plotar importância relativa\n",
    "rankImportance %>%\n",
    "ggplot(aes(reorder(Variables, Importance),\n",
    "          Importance,fill=Importance)) +\n",
    "geom_bar(stat=\"identity\", alpha=.5)+\n",
    "geom_text(aes(Variables,0.5, label=Rank),\n",
    "         hjust=0,vjust=0.55,size=4, colour=\"red\") +\n",
    "labs(title=\"Rank de Importância\",x=NULL,y=NULL) +\n",
    "coord_flip()"
   ]
  },
  {
   "cell_type": "code",
   "execution_count": 85,
   "id": "pursuant-attribute",
   "metadata": {},
   "outputs": [],
   "source": [
    "# Terceira versão do modelo\n",
    "modelo_v3<- randomForest(DEFAULTING ~ PAY_0+PAY_2+PAY_3+PAY_AMT1+\n",
    "                        PAY_AMT2+PAY_5+BILL_AMT1, df_treino_bal)"
   ]
  },
  {
   "cell_type": "code",
   "execution_count": 86,
   "id": "vietnamese-sacramento",
   "metadata": {},
   "outputs": [
    {
     "data": {
      "text/plain": [
       "\n",
       "Call:\n",
       " randomForest(formula = DEFAULTING ~ PAY_0 + PAY_2 + PAY_3 + PAY_AMT1 +      PAY_AMT2 + PAY_5 + BILL_AMT1, data = df_treino_bal) \n",
       "               Type of random forest: classification\n",
       "                     Number of trees: 500\n",
       "No. of variables tried at each split: 2\n",
       "\n",
       "        OOB estimate of  error rate: 13.55%\n",
       "Confusion matrix:\n",
       "      0     1 class.error\n",
       "0 18847   985   0.0496672\n",
       "1  3718 11156   0.2499664"
      ]
     },
     "metadata": {},
     "output_type": "display_data"
    }
   ],
   "source": [
    "# Ver modelo 3\n",
    "modelo_v3"
   ]
  },
  {
   "cell_type": "code",
   "execution_count": 87,
   "id": "magnetic-given",
   "metadata": {},
   "outputs": [
    {
     "data": {
      "image/png": "[encoded data removed]",
      "text/plain": [
       "Plot with title \"modelo_v3\""
      ]
     },
     "metadata": {},
     "output_type": "display_data"
    }
   ],
   "source": [
    "# Avaliando o modelo 3\n",
    "plot(modelo_v3)"
   ]
  },
  {
   "cell_type": "code",
   "execution_count": 88,
   "id": "marine-sunrise",
   "metadata": {},
   "outputs": [],
   "source": [
    "# Previsões com dados de teste\n",
    "previsoes_v3<- predict(modelo_v3, df_teste)"
   ]
  },
  {
   "cell_type": "code",
   "execution_count": 89,
   "id": "furnished-campus",
   "metadata": {},
   "outputs": [],
   "source": [
    "# Construindo uma matrix de confusão\n",
    "cm_v3<- caret::confusionMatrix(previsoes_v3,\n",
    "                               df_teste$DEFAULTING,\n",
    "                              positive=\"1\")"
   ]
  },
  {
   "cell_type": "code",
   "execution_count": 90,
   "id": "alpine-leonard",
   "metadata": {},
   "outputs": [
    {
     "data": {
      "text/plain": [
       "Confusion Matrix and Statistics\n",
       "\n",
       "          Reference\n",
       "Prediction    0    1\n",
       "         0 5203  950\n",
       "         1  558  702\n",
       "                                          \n",
       "               Accuracy : 0.7966          \n",
       "                 95% CI : (0.7872, 0.8057)\n",
       "    No Information Rate : 0.7771          \n",
       "    P-Value [Acc > NIR] : 2.61e-05        \n",
       "                                          \n",
       "                  Kappa : 0.3584          \n",
       "                                          \n",
       " Mcnemar's Test P-Value : < 2.2e-16       \n",
       "                                          \n",
       "            Sensitivity : 0.4249          \n",
       "            Specificity : 0.9031          \n",
       "         Pos Pred Value : 0.5571          \n",
       "         Neg Pred Value : 0.8456          \n",
       "             Prevalence : 0.2229          \n",
       "         Detection Rate : 0.0947          \n",
       "   Detection Prevalence : 0.1700          \n",
       "      Balanced Accuracy : 0.6640          \n",
       "                                          \n",
       "       'Positive' Class : 1               \n",
       "                                          "
      ]
     },
     "metadata": {},
     "output_type": "display_data"
    }
   ],
   "source": [
    "# Visualizando a matrix de confusão\n",
    "cm_v3"
   ]
  },
  {
   "cell_type": "code",
   "execution_count": 91,
   "id": "alone-spouse",
   "metadata": {},
   "outputs": [],
   "source": [
    "# Definindo valores de y e y_pred\n",
    "y<- df_teste$DEFAULTING\n",
    "y_pred_v3<- previsoes_v3"
   ]
  },
  {
   "cell_type": "code",
   "execution_count": 92,
   "id": "focused-musician",
   "metadata": {},
   "outputs": [
    {
     "data": {
      "text/html": [
       "0.845603770518446"
      ],
      "text/latex": [
       "0.845603770518446"
      ],
      "text/markdown": [
       "0.845603770518446"
      ],
      "text/plain": [
       "[1] 0.8456038"
      ]
     },
     "metadata": {},
     "output_type": "display_data"
    }
   ],
   "source": [
    "# Calculando Precision\n",
    "precision3<- posPredValue(y_pred_v3,y)\n",
    "precision3"
   ]
  },
  {
   "cell_type": "code",
   "execution_count": 93,
   "id": "dominican-belle",
   "metadata": {},
   "outputs": [
    {
     "data": {
      "text/html": [
       "0.903141815657004"
      ],
      "text/latex": [
       "0.903141815657004"
      ],
      "text/markdown": [
       "0.903141815657004"
      ],
      "text/plain": [
       "[1] 0.9031418"
      ]
     },
     "metadata": {},
     "output_type": "display_data"
    }
   ],
   "source": [
    "# Calculando recall\n",
    "recall3<- sensitivity(y_pred_v3,y)\n",
    "recall3"
   ]
  },
  {
   "cell_type": "code",
   "execution_count": 94,
   "id": "differential-contract",
   "metadata": {},
   "outputs": [
    {
     "data": {
      "text/html": [
       "0.888000652581777"
      ],
      "text/latex": [
       "0.888000652581777"
      ],
      "text/markdown": [
       "0.888000652581777"
      ],
      "text/plain": [
       "[1] 0.8880007"
      ]
     },
     "metadata": {},
     "output_type": "display_data"
    }
   ],
   "source": [
    "# Calculando F1-Score\n",
    "F3<- (2 * precision * recall) / (precision + recall)\n",
    "F3"
   ]
  },
  {
   "cell_type": "code",
   "execution_count": 95,
   "id": "cheap-crisis",
   "metadata": {},
   "outputs": [],
   "source": [
    "# Salvando o modelo final\n",
    "saveRDS(modelo_v3, file=\"modelo_v3.rds\")"
   ]
  },
  {
   "cell_type": "markdown",
   "id": "premium-calculator",
   "metadata": {},
   "source": [
    "### 3.2 PREVISÕES"
   ]
  },
  {
   "cell_type": "code",
   "execution_count": 96,
   "id": "durable-agriculture",
   "metadata": {},
   "outputs": [],
   "source": [
    "# Dados dos clientes\n",
    "PAY_0<- c(0,0,0)\n",
    "PAY_2<- c(0,0,0)\n",
    "PAY_3<- c(1,0,0)\n",
    "PAY_AMT1<- c(1100,1000,1200)\n",
    "PAY_AMT2<- c(1500,1300,1150)\n",
    "PAY_5<- c(0,0,0)\n",
    "BILL_AMT1<- c(350,420,280)"
   ]
  },
  {
   "cell_type": "code",
   "execution_count": 97,
   "id": "advance-agent",
   "metadata": {},
   "outputs": [],
   "source": [
    "# Concatenando em um dataframe\n",
    "novos_clientes<- data.frame(PAY_0,PAY_2,PAY_3,PAY_AMT1,PAY_AMT2,\n",
    "                           PAY_5,BILL_AMT1)"
   ]
  },
  {
   "cell_type": "code",
   "execution_count": 98,
   "id": "closed-taylor",
   "metadata": {},
   "outputs": [],
   "source": [
    "# Convertendo as variáveis para fator\n",
    "novos_clientes$PAY_0<- factor(novos_clientes$PAY_0,\n",
    "                              levels=levels(df_treino_bal$PAY_0))\n",
    "novos_clientes$PAY_2<- factor(novos_clientes$PAY_2,\n",
    "                              levels=levels(df_treino_bal$PAY_2))\n",
    "novos_clientes$PAY_3<- factor(novos_clientes$PAY_3,\n",
    "                              levels=levels(df_treino_bal$PAY_3))\n",
    "novos_clientes$PAY_5<- factor(novos_clientes$PAY_5,\n",
    "                              levels=levels(df_treino_bal$PAY_5))\n"
   ]
  },
  {
   "cell_type": "code",
   "execution_count": 99,
   "id": "overhead-stephen",
   "metadata": {},
   "outputs": [
    {
     "name": "stdout",
     "output_type": "stream",
     "text": [
      "'data.frame':\t3 obs. of  7 variables:\n",
      " $ PAY_0    : Factor w/ 11 levels \"-2\",\"-1\",\"0\",..: 3 3 3\n",
      " $ PAY_2    : Factor w/ 11 levels \"-2\",\"-1\",\"0\",..: 3 3 3\n",
      " $ PAY_3    : Factor w/ 11 levels \"-2\",\"-1\",\"0\",..: 4 3 3\n",
      " $ PAY_AMT1 : num  1100 1000 1200\n",
      " $ PAY_AMT2 : num  1500 1300 1150\n",
      " $ PAY_5    : Factor w/ 10 levels \"-2\",\"-1\",\"0\",..: 3 3 3\n",
      " $ BILL_AMT1: num  350 420 280\n"
     ]
    }
   ],
   "source": [
    "# Visualizar dataset\n",
    "str(novos_clientes)"
   ]
  },
  {
   "cell_type": "code",
   "execution_count": 100,
   "id": "ecological-catholic",
   "metadata": {},
   "outputs": [],
   "source": [
    "# Previsões\n",
    "previsoes_novo_clientes<- predict(modelo_v3, novos_clientes)"
   ]
  },
  {
   "cell_type": "code",
   "execution_count": 101,
   "id": "early-disability",
   "metadata": {},
   "outputs": [
    {
     "data": {
      "text/html": [
       "<dl class=dl-horizontal>\n",
       "\t<dt>1</dt>\n",
       "\t\t<dd>1</dd>\n",
       "\t<dt>2</dt>\n",
       "\t\t<dd>0</dd>\n",
       "\t<dt>3</dt>\n",
       "\t\t<dd>0</dd>\n",
       "</dl>\n",
       "\n",
       "<details>\n",
       "\t<summary style=display:list-item;cursor:pointer>\n",
       "\t\t<strong>Levels</strong>:\n",
       "\t</summary>\n",
       "\t<ol class=list-inline>\n",
       "\t\t<li>'0'</li>\n",
       "\t\t<li>'1'</li>\n",
       "\t</ol>\n",
       "</details>"
      ],
      "text/latex": [
       "\\begin{description*}\n",
       "\\item[1] 1\n",
       "\\item[2] 0\n",
       "\\item[3] 0\n",
       "\\end{description*}\n",
       "\n",
       "\\emph{Levels}: \\begin{enumerate*}\n",
       "\\item '0'\n",
       "\\item '1'\n",
       "\\end{enumerate*}\n"
      ],
      "text/markdown": [
       "1\n",
       ":   12\n",
       ":   03\n",
       ":   0\n",
       "\n",
       "\n",
       "**Levels**: 1. '0'\n",
       "2. '1'\n",
       "\n",
       "\n"
      ],
      "text/plain": [
       "1 2 3 \n",
       "1 0 0 \n",
       "Levels: 0 1"
      ]
     },
     "metadata": {},
     "output_type": "display_data"
    }
   ],
   "source": [
    "# Visualizar as previsões\n",
    "previsoes_novo_clientes"
   ]
  },
  {
   "cell_type": "markdown",
   "id": "representative-honolulu",
   "metadata": {},
   "source": [
    "DIEGO RAMIREZ <br>\n",
    "daarfarias@hotmail.com <br>\n",
    "https://github.com/daarfarias"
   ]
  }
 ],
 "metadata": {
  "kernelspec": {
   "display_name": "R",
   "language": "R",
   "name": "ir"
  },
  "language_info": {
   "codemirror_mode": "r",
   "file_extension": ".r",
   "mimetype": "text/x-r-source",
   "name": "R",
   "pygments_lexer": "r",
   "version": "3.6.1"
  }
 },
 "nbformat": 4,
 "nbformat_minor": 5
}
